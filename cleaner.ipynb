{
 "cells": [
  {
   "cell_type": "code",
   "execution_count": null,
   "metadata": {},
   "outputs": [],
   "source": [
    "# Import curl module\n",
    "import pycurl\n",
    "import json\n",
    "from io import BytesIO\n",
    "\n",
    "images = [\"base\",\"unihub\",\"unihubsingle\", \"quantumcomputing\", \n",
    "\t  \"pytorch\", \"pytorchgpu\", \"tensorflow\", \"tensorflow-gpu\", \n",
    "\t  \"chemistry\", \"genomics\", \"hydraulics\", \"conda\", \"cern-root\",\n",
    "\t  \"optimisation\", \"engineering\", \"unihubbackup\", \"web\", \"ldapproxy\",\n",
    "\t  \"ldapsyncservice\"]\n",
    "\n",
    "%run secrets.py"
   ]
  },
  {
   "cell_type": "code",
   "execution_count": null,
   "metadata": {},
   "outputs": [],
   "source": [
    "def tagList(baseUrl,userPwd, projectName, repoName):\n",
    "\turl = f\"{baseUrl}/projects/{projectName}/repositories/{repoName}/artifacts\"\n",
    "\tbuffer = BytesIO()\n",
    "\tc = pycurl.Curl()\n",
    "\tc.setopt(c.URL, url)\n",
    "\tc.setopt(c.CUSTOMREQUEST, 'GET')\n",
    "\tc.setopt(c.HTTPHEADER, ['Content-Type: application/json'])\n",
    "\tc.setopt(c.USERPWD, userPwd)\n",
    "\tc.setopt(c.WRITEDATA, buffer)\n",
    "\tc.setopt(c.TIMEOUT, 30)\n",
    "\tc.perform()\n",
    "\tc.close()\n",
    "\n",
    "\tbuffer.seek(0)\n",
    "\tresponse = buffer.read().decode('utf-8')\n",
    "\tdata = json.loads(response)\n",
    "\tresult = []\n",
    "\tfor artifact in data:\n",
    "\t\tif 'tags' in artifact and artifact['tags']!=None:\n",
    "\t\t\tfor tag in artifact['tags']:\n",
    "\t\t\t\tresult.append(tag['name'])\n",
    "\treturn result"
   ]
  },
  {
   "cell_type": "code",
   "execution_count": null,
   "metadata": {},
   "outputs": [],
   "source": [
    "def branchList():\n",
    "\t! gh api repos/UniNuvola/images/branches | ansi2txt > branches.json\n",
    "\twith open('branches.json', 'r') as file:\n",
    "\t\tbranches = json.load(file)\n",
    "\tbranchList = []\n",
    "\n",
    "\tfor branch in branches:\n",
    "\t\tbranchList.append(branch['name'])\n",
    "\treturn branchList"
   ]
  },
  {
   "cell_type": "code",
   "execution_count": null,
   "metadata": {},
   "outputs": [],
   "source": [
    "def tagRemove(baseUrl,userPwd, projectName, repoName, tagName):\n",
    "\turl = f\"{baseUrl}/projects/{projectName}/repositories/{repoName}/artifacts/{tagName}/tags/{tagName}\"\n",
    "\tc = pycurl.Curl()\n",
    "\tc.setopt(c.URL, url)\n",
    "\tc.setopt(c.CUSTOMREQUEST, 'DELETE')\n",
    "\tc.setopt(c.HTTPHEADER, ['Content-Type: application/json'])\n",
    "\tc.setopt(c.USERPWD, userPwd)\n",
    "\tc.setopt(c.TIMEOUT, 30)\n",
    "\tc.perform()\n",
    "\tc.close()"
   ]
  },
  {
   "cell_type": "code",
   "execution_count": null,
   "metadata": {},
   "outputs": [],
   "source": [
    "branches=branchList()"
   ]
  },
  {
   "cell_type": "code",
   "execution_count": null,
   "metadata": {},
   "outputs": [],
   "source": [
    "for image in images:\n",
    "\tprint(f\"Checking image: {image}\")\n",
    "\ttags=tagList(baseUrl,userPwd, \"uninuvola\", image)\n",
    "\tfor tag in tags:\n",
    "\t\tif tag not in branches:\n",
    "\t\t\tprint(f\"  Tag {tag} not found in branches, removing...\")\n",
    "\t\t\ttagRemove(baseUrl,userPwd, \"uninuvola\", image, tag)\n",
    "\t\telse:\n",
    "\t\t\tprint(f\"  Tag {tag} found in branches, keeping...\")"
   ]
  }
 ],
 "metadata": {
  "kernelspec": {
   "display_name": "harbor",
   "language": "python",
   "name": "python3"
  },
  "language_info": {
   "codemirror_mode": {
    "name": "ipython",
    "version": 3
   },
   "file_extension": ".py",
   "mimetype": "text/x-python",
   "name": "python",
   "nbconvert_exporter": "python",
   "pygments_lexer": "ipython3",
   "version": "3.13.2"
  }
 },
 "nbformat": 4,
 "nbformat_minor": 2
}
